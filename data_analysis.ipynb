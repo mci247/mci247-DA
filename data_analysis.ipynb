{
 "cells": [
  {
   "cell_type": "code",
   "execution_count": 1,
   "metadata": {},
   "outputs": [],
   "source": [
    "import pandas as pd\n",
    "import numpy as np"
   ]
  },
  {
   "cell_type": "code",
   "execution_count": 43,
   "metadata": {
    "scrolled": true
   },
   "outputs": [
    {
     "data": {
      "text/html": [
       "<div>\n",
       "<style scoped>\n",
       "    .dataframe tbody tr th:only-of-type {\n",
       "        vertical-align: middle;\n",
       "    }\n",
       "\n",
       "    .dataframe tbody tr th {\n",
       "        vertical-align: top;\n",
       "    }\n",
       "\n",
       "    .dataframe thead th {\n",
       "        text-align: right;\n",
       "    }\n",
       "</style>\n",
       "<table border=\"1\" class=\"dataframe\">\n",
       "  <thead>\n",
       "    <tr style=\"text-align: right;\">\n",
       "      <th></th>\n",
       "      <th>Unnamed: 0</th>\n",
       "      <th>name</th>\n",
       "      <th>gender</th>\n",
       "      <th>address</th>\n",
       "      <th>mobile</th>\n",
       "      <th>source_lead</th>\n",
       "      <th>note</th>\n",
       "      <th>page_id</th>\n",
       "    </tr>\n",
       "  </thead>\n",
       "  <tbody>\n",
       "    <tr>\n",
       "      <th>0</th>\n",
       "      <td>0</td>\n",
       "      <td>Ut Huynh Nguyen</td>\n",
       "      <td>male</td>\n",
       "      <td>NaN</td>\n",
       "      <td>0909278702</td>\n",
       "      <td>BOT</td>\n",
       "      <td>OD</td>\n",
       "      <td>106048591142776</td>\n",
       "    </tr>\n",
       "    <tr>\n",
       "      <th>1</th>\n",
       "      <td>1</td>\n",
       "      <td>Nhậtt Hoàngg</td>\n",
       "      <td>NaN</td>\n",
       "      <td>NaN</td>\n",
       "      <td>0838728888</td>\n",
       "      <td>BOT</td>\n",
       "      <td>OD</td>\n",
       "      <td>106048591142776</td>\n",
       "    </tr>\n",
       "    <tr>\n",
       "      <th>2</th>\n",
       "      <td>3</td>\n",
       "      <td>Khoa Nón Lá</td>\n",
       "      <td>NaN</td>\n",
       "      <td>NaN</td>\n",
       "      <td>0838728888</td>\n",
       "      <td>BOT</td>\n",
       "      <td>OD</td>\n",
       "      <td>106048591142776</td>\n",
       "    </tr>\n",
       "    <tr>\n",
       "      <th>3</th>\n",
       "      <td>4</td>\n",
       "      <td>Nguyễn Nam</td>\n",
       "      <td>NaN</td>\n",
       "      <td>NaN</td>\n",
       "      <td>0788728282</td>\n",
       "      <td>BOT</td>\n",
       "      <td>OD</td>\n",
       "      <td>106048591142776</td>\n",
       "    </tr>\n",
       "    <tr>\n",
       "      <th>4</th>\n",
       "      <td>5</td>\n",
       "      <td>Ngânn Monn</td>\n",
       "      <td>NaN</td>\n",
       "      <td>Thành phố Hồ Chí Minh</td>\n",
       "      <td>0788728282</td>\n",
       "      <td>BOT</td>\n",
       "      <td>OD</td>\n",
       "      <td>106048591142776</td>\n",
       "    </tr>\n",
       "  </tbody>\n",
       "</table>\n",
       "</div>"
      ],
      "text/plain": [
       "   Unnamed: 0             name gender                address      mobile  \\\n",
       "0           0  Ut Huynh Nguyen   male                    NaN  0909278702   \n",
       "1           1     Nhậtt Hoàngg    NaN                    NaN  0838728888   \n",
       "2           3      Khoa Nón Lá    NaN                    NaN  0838728888   \n",
       "3           4       Nguyễn Nam    NaN                    NaN  0788728282   \n",
       "4           5       Ngânn Monn    NaN  Thành phố Hồ Chí Minh  0788728282   \n",
       "\n",
       "  source_lead note          page_id  \n",
       "0         BOT   OD  106048591142776  \n",
       "1         BOT   OD  106048591142776  \n",
       "2         BOT   OD  106048591142776  \n",
       "3         BOT   OD  106048591142776  \n",
       "4         BOT   OD  106048591142776  "
      ]
     },
     "execution_count": 43,
     "metadata": {},
     "output_type": "execute_result"
    }
   ],
   "source": [
    "df = pd.read_csv(\"data_pancake.csv\")\n",
    "df.head()"
   ]
  },
  {
   "cell_type": "code",
   "execution_count": 44,
   "metadata": {},
   "outputs": [],
   "source": [
    "df.drop(columns=df.columns[0], inplace=True)"
   ]
  },
  {
   "cell_type": "code",
   "execution_count": 45,
   "metadata": {},
   "outputs": [
    {
     "data": {
      "text/plain": [
       "'Học viên công nghệ MCI'"
      ]
     },
     "execution_count": 45,
     "metadata": {},
     "output_type": "execute_result"
    }
   ],
   "source": [
    "def change_page_name(page):\n",
    "    if page == 106048591142776:\n",
    "        page = \"Đào tạo lập trình MCI Việt Nam Tại TP. HCM\"\n",
    "    elif page == 102791862223216:\n",
    "        page = \"Học viên công nghệ MCI\"\n",
    "    elif page == 101464274796063:\n",
    "        page = \"Học viện công nghệ MCI Quận 3 - HCM\"\n",
    "    elif page == 100775119097939:\n",
    "        page = \"Học viện công nghệ MCI Đống Đa - HN\"\n",
    "    elif page == 101260665268485:\n",
    "        page = \"Học viện đào tạo công nghệ MCI VN\"\n",
    "    return page\n",
    "change_page_name(102791862223216)"
   ]
  },
  {
   "cell_type": "code",
   "execution_count": 48,
   "metadata": {},
   "outputs": [],
   "source": [
    "for idx, each in df[\"page_id\"].items():\n",
    "    df[\"page_id\"][idx] = change_page_name(each) "
   ]
  },
  {
   "cell_type": "code",
   "execution_count": 49,
   "metadata": {},
   "outputs": [],
   "source": [
    "df.fillna(\"\", inplace=True)"
   ]
  },
  {
   "cell_type": "code",
   "execution_count": 50,
   "metadata": {},
   "outputs": [
    {
     "name": "stdout",
     "output_type": "stream",
     "text": [
      "<class 'pandas.core.frame.DataFrame'>\n",
      "RangeIndex: 1808 entries, 0 to 1807\n",
      "Data columns (total 7 columns):\n",
      " #   Column       Non-Null Count  Dtype \n",
      "---  ------       --------------  ----- \n",
      " 0   name         1808 non-null   object\n",
      " 1   gender       1808 non-null   object\n",
      " 2   address      1808 non-null   object\n",
      " 3   mobile       1808 non-null   object\n",
      " 4   source_lead  1808 non-null   object\n",
      " 5   note         1808 non-null   object\n",
      " 6   page_id      1808 non-null   object\n",
      "dtypes: object(7)\n",
      "memory usage: 99.0+ KB\n"
     ]
    }
   ],
   "source": [
    "df.info()"
   ]
  },
  {
   "cell_type": "code",
   "execution_count": 51,
   "metadata": {
    "scrolled": true
   },
   "outputs": [
    {
     "data": {
      "text/html": [
       "<div>\n",
       "<style scoped>\n",
       "    .dataframe tbody tr th:only-of-type {\n",
       "        vertical-align: middle;\n",
       "    }\n",
       "\n",
       "    .dataframe tbody tr th {\n",
       "        vertical-align: top;\n",
       "    }\n",
       "\n",
       "    .dataframe thead th {\n",
       "        text-align: right;\n",
       "    }\n",
       "</style>\n",
       "<table border=\"1\" class=\"dataframe\">\n",
       "  <thead>\n",
       "    <tr style=\"text-align: right;\">\n",
       "      <th></th>\n",
       "      <th>name</th>\n",
       "      <th>gender</th>\n",
       "      <th>address</th>\n",
       "      <th>mobile</th>\n",
       "      <th>source_lead</th>\n",
       "      <th>note</th>\n",
       "    </tr>\n",
       "    <tr>\n",
       "      <th>page_id</th>\n",
       "      <th></th>\n",
       "      <th></th>\n",
       "      <th></th>\n",
       "      <th></th>\n",
       "      <th></th>\n",
       "      <th></th>\n",
       "    </tr>\n",
       "  </thead>\n",
       "  <tbody>\n",
       "    <tr>\n",
       "      <th>Học viên công nghệ MCI</th>\n",
       "      <td>590</td>\n",
       "      <td>590</td>\n",
       "      <td>590</td>\n",
       "      <td>590</td>\n",
       "      <td>590</td>\n",
       "      <td>590</td>\n",
       "    </tr>\n",
       "    <tr>\n",
       "      <th>Học viện công nghệ MCI Quận 3 - HCM</th>\n",
       "      <td>756</td>\n",
       "      <td>756</td>\n",
       "      <td>756</td>\n",
       "      <td>756</td>\n",
       "      <td>756</td>\n",
       "      <td>756</td>\n",
       "    </tr>\n",
       "    <tr>\n",
       "      <th>Học viện công nghệ MCI Đống Đa - HN</th>\n",
       "      <td>174</td>\n",
       "      <td>174</td>\n",
       "      <td>174</td>\n",
       "      <td>174</td>\n",
       "      <td>174</td>\n",
       "      <td>174</td>\n",
       "    </tr>\n",
       "    <tr>\n",
       "      <th>Học viện đào tạo công nghệ MCI VN</th>\n",
       "      <td>277</td>\n",
       "      <td>277</td>\n",
       "      <td>277</td>\n",
       "      <td>277</td>\n",
       "      <td>277</td>\n",
       "      <td>277</td>\n",
       "    </tr>\n",
       "    <tr>\n",
       "      <th>Đào tạo lập trình MCI Việt Nam Tại TP. HCM</th>\n",
       "      <td>11</td>\n",
       "      <td>11</td>\n",
       "      <td>11</td>\n",
       "      <td>11</td>\n",
       "      <td>11</td>\n",
       "      <td>11</td>\n",
       "    </tr>\n",
       "  </tbody>\n",
       "</table>\n",
       "</div>"
      ],
      "text/plain": [
       "                                            name  gender  address  mobile  \\\n",
       "page_id                                                                     \n",
       "Học viên công nghệ MCI                       590     590      590     590   \n",
       "Học viện công nghệ MCI Quận 3 - HCM          756     756      756     756   \n",
       "Học viện công nghệ MCI Đống Đa - HN          174     174      174     174   \n",
       "Học viện đào tạo công nghệ MCI VN            277     277      277     277   \n",
       "Đào tạo lập trình MCI Việt Nam Tại TP. HCM    11      11       11      11   \n",
       "\n",
       "                                            source_lead  note  \n",
       "page_id                                                        \n",
       "Học viên công nghệ MCI                              590   590  \n",
       "Học viện công nghệ MCI Quận 3 - HCM                 756   756  \n",
       "Học viện công nghệ MCI Đống Đa - HN                 174   174  \n",
       "Học viện đào tạo công nghệ MCI VN                   277   277  \n",
       "Đào tạo lập trình MCI Việt Nam Tại TP. HCM           11    11  "
      ]
     },
     "execution_count": 51,
     "metadata": {},
     "output_type": "execute_result"
    }
   ],
   "source": [
    "df.groupby(\"page_id\").count()"
   ]
  },
  {
   "cell_type": "markdown",
   "metadata": {},
   "source": [
    "### Tổng cộng 1808\n",
    "### Học viện công nghệ MCI - có 590 người - 590 - OD\n",
    "### Học viện công nghệ MCI Quận 3 - HCM 491 - FB & 265 - OD\n",
    "### Học viện công nghệ MCI Đống Đa - HN 174 - OD\n",
    "### Học viện đào tạo công nghệ MCI VN - 166 - FB, 111 - OD\n",
    "### Đào tạo lập trình MCI Việt Nam Tại TP. HCM  - 11 - OD\n"
   ]
  },
  {
   "cell_type": "code",
   "execution_count": 77,
   "metadata": {},
   "outputs": [
    {
     "data": {
      "text/plain": [
       "note\n",
       "OD    11\n",
       "Name: mobile, dtype: int64"
      ]
     },
     "execution_count": 77,
     "metadata": {},
     "output_type": "execute_result"
    }
   ],
   "source": [
    "df[df[\"page_id\"] == \"Đào tạo lập trình MCI Việt Nam Tại TP. HCM\"].groupby(\"note\")[\"mobile\"].count()\n"
   ]
  }
 ],
 "metadata": {
  "kernelspec": {
   "display_name": "Python 3 (ipykernel)",
   "language": "python",
   "name": "python3"
  },
  "language_info": {
   "codemirror_mode": {
    "name": "ipython",
    "version": 3
   },
   "file_extension": ".py",
   "mimetype": "text/x-python",
   "name": "python",
   "nbconvert_exporter": "python",
   "pygments_lexer": "ipython3",
   "version": "3.9.7"
  },
  "vscode": {
   "interpreter": {
    "hash": "3196968d684371006099b3d55edeef8ed90365227a30deaef86e5d4aa8519be0"
   }
  }
 },
 "nbformat": 4,
 "nbformat_minor": 2
}
